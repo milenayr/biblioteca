{
 "cells": [
  {
   "cell_type": "code",
   "execution_count": 4,
   "id": "c24c5096",
   "metadata": {
    "id": "c24c5096"
   },
   "outputs": [
    {
     "name": "stdout",
     "output_type": "stream",
     "text": [
      "\n",
      "1. Adicionar Registro de Empréstimo\n",
      "2. Imprimir Relatório\n"
     ]
    },
    {
     "name": "stdout",
     "output_type": "stream",
     "text": [
      "Escolha uma opção:  milena\n"
     ]
    },
    {
     "name": "stdout",
     "output_type": "stream",
     "text": [
      "\n",
      "1. Adicionar Registro de Empréstimo\n",
      "2. Imprimir Relatório\n"
     ]
    },
    {
     "name": "stdout",
     "output_type": "stream",
     "text": [
      "Escolha uma opção:  1\n",
      "Digite o seu nome:  milena\n",
      "Digite o livro escolhido:  aaa\n",
      "Dê uma nota para avaliar o livro escolhido:  10\n",
      "Dê uma nota para avaliar o atendimento da biblioteca:  9\n"
     ]
    },
    {
     "name": "stdout",
     "output_type": "stream",
     "text": [
      "\n",
      "1. Adicionar Registro de Empréstimo\n",
      "2. Imprimir Relatório\n"
     ]
    },
    {
     "name": "stdout",
     "output_type": "stream",
     "text": [
      "Escolha uma opção:  1\n",
      "Digite o seu nome:  juliana\n",
      "Digite o livro escolhido:  bbb\n",
      "Dê uma nota para avaliar o livro escolhido:  9\n",
      "Dê uma nota para avaliar o atendimento da biblioteca:  10\n"
     ]
    },
    {
     "name": "stdout",
     "output_type": "stream",
     "text": [
      "\n",
      "1. Adicionar Registro de Empréstimo\n",
      "2. Imprimir Relatório\n"
     ]
    },
    {
     "name": "stdout",
     "output_type": "stream",
     "text": [
      "Escolha uma opção:  2\n"
     ]
    },
    {
     "name": "stdout",
     "output_type": "stream",
     "text": [
      "\n",
      "            RELATÓRIO DE EMPRÉSTIMOS:\n",
      "            \n",
      "            Aluno: milena\n",
      "            Livro: aaa\n",
      "            Nota do livro: 10\n",
      "            Nota do atendimento da biblioteca: 9\n",
      "            \n",
      "\n",
      "            RELATÓRIO DE EMPRÉSTIMOS:\n",
      "            \n",
      "            Aluno: juliana\n",
      "            Livro: bbb\n",
      "            Nota do livro: 9\n",
      "            Nota do atendimento da biblioteca: 10\n",
      "            \n"
     ]
    },
    {
     "data": {
      "text/plain": [
       "'A média das avaliações do atendimento da biblioteca é de: 9.5'"
      ]
     },
     "execution_count": 4,
     "metadata": {},
     "output_type": "execute_result"
    }
   ],
   "source": [
    "alunos = []\n",
    "livros = []\n",
    "notas_livros = []\n",
    "notas_biblioteca = []\n",
    "\n",
    "while True:\n",
    "    print (\"\"\"\n",
    "1. Adicionar Registro de Empréstimo\n",
    "2. Imprimir Relatório\"\"\")\n",
    "    \n",
    "    opcao = input (\"Escolha uma opção: \")\n",
    "    \n",
    "    if opcao == \"1\":\n",
    "        \n",
    "        aluno = input (\"Digite o seu nome: \")\n",
    "        alunos.append(aluno)\n",
    "        \n",
    "        livro = input (\"Digite o livro escolhido: \")\n",
    "        livros.append(livro)\n",
    "        \n",
    "        nota_livro = int (input (\"Dê uma nota para avaliar o livro escolhido: \"))\n",
    "        notas_livros.append(nota_livro)\n",
    "        \n",
    "        nota_biblioteca = int (input(\"Dê uma nota para avaliar o atendimento da biblioteca: \"))\n",
    "        notas_biblioteca.append(nota_biblioteca)\n",
    "\n",
    "    elif opcao == \"2\":\n",
    "        for i, aluno in enumerate(alunos):\n",
    "            print ('''\n",
    "            RELATÓRIO DE EMPRÉSTIMOS:\n",
    "            \n",
    "            Aluno: {}\n",
    "            Livro: {}\n",
    "            Nota do livro: {}\n",
    "            Nota do atendimento da biblioteca: {}\n",
    "            '''.format(aluno, livros[i],notas_livros[i],notas_biblioteca[i]))\n",
    "        break\n",
    "\n",
    "    else: (\"Escolha entre as duas opções\")\n",
    "\n",
    "def media():\n",
    "    resultado = sum(notas_biblioteca)/len(notas_biblioteca)\n",
    "    return (\"A média das avaliações do atendimento da biblioteca é de: {}\" .format(resultado))\n",
    "\n",
    "media()\n"
   ]
  }
 ],
 "metadata": {
  "colab": {
   "provenance": []
  },
  "kernelspec": {
   "display_name": "Python 3 (ipykernel)",
   "language": "python",
   "name": "python3"
  },
  "language_info": {
   "codemirror_mode": {
    "name": "ipython",
    "version": 3
   },
   "file_extension": ".py",
   "mimetype": "text/x-python",
   "name": "python",
   "nbconvert_exporter": "python",
   "pygments_lexer": "ipython3",
   "version": "3.11.7"
  }
 },
 "nbformat": 4,
 "nbformat_minor": 5
}
